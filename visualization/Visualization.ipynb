{
  "nbformat": 4,
  "nbformat_minor": 0,
  "metadata": {
    "colab": {
      "name": "Visualization.ipynb",
      "version": "0.3.2",
      "provenance": [],
      "toc_visible": true
    },
    "language_info": {
      "codemirror_mode": {
        "name": "ipython",
        "version": 3
      },
      "file_extension": ".py",
      "mimetype": "text/x-python",
      "name": "python",
      "nbconvert_exporter": "python",
      "pygments_lexer": "ipython3",
      "version": "3.6.4"
    },
    "kernelspec": {
      "display_name": "Python 3",
      "language": "python",
      "name": "python3"
    }
  },
  "cells": [
    {
      "cell_type": "code",
      "metadata": {
        "id": "zh0UUlX4pd3M",
        "colab_type": "code",
        "colab": {}
      },
      "source": [
        "import numpy as np\n",
        "import pandas as pd\n",
        "import matplotlib.pyplot as plt\n",
        "%matplotlib inline"
      ],
      "execution_count": 0,
      "outputs": []
    },
    {
      "cell_type": "code",
      "metadata": {
        "id": "UtLEe7Z7pd3T",
        "colab_type": "code",
        "colab": {}
      },
      "source": [
        "df = pd.read_csv(\"https://raw.githubusercontent.com/mwaskom/seaborn-data/master/tips.csv\")"
      ],
      "execution_count": 0,
      "outputs": []
    },
    {
      "cell_type": "code",
      "metadata": {
        "id": "EJPMPdNHpd3W",
        "colab_type": "code",
        "colab": {}
      },
      "source": [
        "df.head()"
      ],
      "execution_count": 0,
      "outputs": []
    },
    {
      "cell_type": "code",
      "metadata": {
        "id": "kbQSCvLVpd3Z",
        "colab_type": "code",
        "colab": {}
      },
      "source": [
        "df.describe()"
      ],
      "execution_count": 0,
      "outputs": []
    },
    {
      "cell_type": "code",
      "metadata": {
        "id": "426xpbcepd3c",
        "colab_type": "code",
        "colab": {}
      },
      "source": [
        "df.info()"
      ],
      "execution_count": 0,
      "outputs": []
    },
    {
      "cell_type": "markdown",
      "metadata": {
        "id": "qcC2ffxIpd3g",
        "colab_type": "text"
      },
      "source": [
        "## Matplotlib"
      ]
    },
    {
      "cell_type": "code",
      "metadata": {
        "id": "qpbDqwvEpd3h",
        "colab_type": "code",
        "colab": {}
      },
      "source": [
        "df.plot()"
      ],
      "execution_count": 0,
      "outputs": []
    },
    {
      "cell_type": "code",
      "metadata": {
        "id": "Twy7Co3mpd3k",
        "colab_type": "code",
        "colab": {}
      },
      "source": [
        "df.sort_values('total_bill').plot(x='total_bill',y='tip')"
      ],
      "execution_count": 0,
      "outputs": []
    },
    {
      "cell_type": "code",
      "metadata": {
        "id": "fYXK9QRmpd3n",
        "colab_type": "code",
        "colab": {}
      },
      "source": [
        "df.sort_values('total_bill', inplace=True)\n",
        "df.plot.scatter(x='total_bill', y='tip', c='size', colormap='viridis')\n",
        "#plt.scatter(x=df['total_bill'],y=df['tip'], c=df['time'])"
      ],
      "execution_count": 0,
      "outputs": []
    },
    {
      "cell_type": "code",
      "metadata": {
        "id": "jENqkIdhpd3q",
        "colab_type": "code",
        "colab": {}
      },
      "source": [
        ""
      ],
      "execution_count": 0,
      "outputs": []
    },
    {
      "cell_type": "code",
      "metadata": {
        "id": "QTOMrYehpd3t",
        "colab_type": "code",
        "colab": {}
      },
      "source": [
        "#df.loc[:,['tip','size']].plot(kind='bar')\n",
        "df.loc[:,['tip','total_bill']].plot.barh(stacked=True)"
      ],
      "execution_count": 0,
      "outputs": []
    },
    {
      "cell_type": "code",
      "metadata": {
        "id": "J-X0fG9Mpd3w",
        "colab_type": "code",
        "colab": {}
      },
      "source": [
        "df[['tip','total_bill']].plot.hist(alpha = 0.7, bins=20, orientation='horizontal')"
      ],
      "execution_count": 0,
      "outputs": []
    },
    {
      "cell_type": "code",
      "metadata": {
        "id": "UswANNnhpd30",
        "colab_type": "code",
        "colab": {}
      },
      "source": [
        "df.boxplot(column=['tip','total_bill'], by=['sex','smoker'], figsize=(14,4))"
      ],
      "execution_count": 0,
      "outputs": []
    },
    {
      "cell_type": "code",
      "metadata": {
        "id": "OS66p4vSpd33",
        "colab_type": "code",
        "colab": {}
      },
      "source": [
        "df.columns"
      ],
      "execution_count": 0,
      "outputs": []
    },
    {
      "cell_type": "code",
      "metadata": {
        "id": "s1_tlbaupd36",
        "colab_type": "code",
        "colab": {}
      },
      "source": [
        "#plt.pie(x=df.tip, y=df.day)\n",
        "df.groupby(['day']).sum()[['tip','total_bill']].plot.pie(subplots=True, figsize=(8,4), autopct='%0.2f')"
      ],
      "execution_count": 0,
      "outputs": []
    },
    {
      "cell_type": "code",
      "metadata": {
        "id": "qwydwjZupd3-",
        "colab_type": "code",
        "colab": {}
      },
      "source": [
        "from pandas.plotting import scatter_matrix\n",
        "scatter_matrix(df,alpha=0.8, diagonal='kde',figsize=(12,6))"
      ],
      "execution_count": 0,
      "outputs": []
    },
    {
      "cell_type": "code",
      "metadata": {
        "id": "yxHiVOH0pd4B",
        "colab_type": "code",
        "colab": {}
      },
      "source": [
        "df.plot.kde(subplots=True, sharex=False, figsize=(14,6))"
      ],
      "execution_count": 0,
      "outputs": []
    },
    {
      "cell_type": "markdown",
      "metadata": {
        "id": "w9Abv1S9pd4E",
        "colab_type": "text"
      },
      "source": [
        "## Seaborn"
      ]
    },
    {
      "cell_type": "code",
      "metadata": {
        "id": "b-zn6mLapd4F",
        "colab_type": "code",
        "colab": {}
      },
      "source": [
        ""
      ],
      "execution_count": 0,
      "outputs": []
    },
    {
      "cell_type": "code",
      "metadata": {
        "id": "A4arOeLopi2l",
        "colab_type": "code",
        "colab": {}
      },
      "source": [
        ""
      ],
      "execution_count": 0,
      "outputs": []
    },
    {
      "cell_type": "markdown",
      "metadata": {
        "id": "JOR1d5NBpjyD",
        "colab_type": "text"
      },
      "source": [
        "H4sIAAAAAAAAAGVRW3OiMBj9Kzu8WisXQexMZxaVqhQVL0Vk3YcQgsZCwCQotuN/38i67cNmJi/nnJzvnC+fUoohIgw5y9lUepI+t1JB87iEfBxvpaetREGB4wwTRJuMlzHOt9LDl8ZHlOGcMKH8tZU6j2pjK/3+pu0Yc0HXPiQnTZhnGaIQg/RugiCKEYFIKDRZIPcsr+giEFKmqcAYB5QPAL+JFF1XZVkTVxzBoarAFNxmfAlMrdM1te7tfBu+MUQFK8oRkKE6j0fBCSHyY1hSUbGsA6EM4LRmIVN0lMVMUWTZ/Ikx3z8C+IjJv/IFohyjW+/P61VAUCyBU4AJZ3/n/Aek+Q5DkDbFY4gYyymrBylbqTa4Bx0PahREkaYiTWt2DLXTbCOoN0E7SpqRLBtJoghAVusogJCc1wtg941dpQeJ4R0BvKRIfCj2w7YF2x97jcrLxgIsF85Rd1nSHxllf3ooOitun9bZ3Et5JBN2jgaLam3r8ctKmRvr/QS6/cgP1i7EGxAYb546nGpLdzLsV8VR70bB7nBovQfcVIOR5U1w3h30DraZHC9Ql6MRXGlymy9yAFyrsfE2dklWnjndn23L+oj3arUr3+GAHLFid9Sg6p+zNzpU+o5qhWj5zghK0nR3dF8J5oWzgDN5dPQtbbx0MqKq1WHG49g5+IbSGpjZxPBSdpnPitjR+QfcEOoYExqmoVO08Szo+C3t7CfU5Cc7Mc1+z+8lqDdumfP28GXywkKtlc0PMG9k+wLgFY32IbKC8rRMXHsUwtXMreSwtObQM7rW87N0/QPW5wXUOwMAAA=="
      ]
    }
  ]
}